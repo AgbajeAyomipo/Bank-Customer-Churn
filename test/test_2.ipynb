{
 "cells": [
  {
   "cell_type": "code",
   "execution_count": 1,
   "metadata": {},
   "outputs": [
    {
     "data": {
      "text/plain": [
       "'c:\\\\Users\\\\Ayo Agbaje\\\\Desktop\\\\Bank-Customer-Churn\\\\test'"
      ]
     },
     "execution_count": 1,
     "metadata": {},
     "output_type": "execute_result"
    }
   ],
   "source": [
    "pwd"
   ]
  },
  {
   "cell_type": "code",
   "execution_count": 2,
   "metadata": {},
   "outputs": [
    {
     "name": "stdout",
     "output_type": "stream",
     "text": [
      "c:\\Users\\Ayo Agbaje\\Desktop\\Bank-Customer-Churn\n"
     ]
    }
   ],
   "source": [
    "cd .."
   ]
  },
  {
   "cell_type": "code",
   "execution_count": 3,
   "metadata": {},
   "outputs": [],
   "source": [
    "from src.stages.data_load import data_load"
   ]
  },
  {
   "cell_type": "code",
   "execution_count": 4,
   "metadata": {},
   "outputs": [
    {
     "name": "stdout",
     "output_type": "stream",
     "text": [
      "Data Loaded Successfully\n"
     ]
    }
   ],
   "source": [
    "data_load()"
   ]
  },
  {
   "cell_type": "code",
   "execution_count": 5,
   "metadata": {},
   "outputs": [],
   "source": [
    "from src.stages.featurize import featurize"
   ]
  },
  {
   "cell_type": "code",
   "execution_count": 6,
   "metadata": {},
   "outputs": [
    {
     "name": "stdout",
     "output_type": "stream",
     "text": [
      "Features Successfully updated\n"
     ]
    }
   ],
   "source": [
    "featurize()"
   ]
  },
  {
   "cell_type": "code",
   "execution_count": 7,
   "metadata": {},
   "outputs": [],
   "source": [
    "from src.stages.data_split import data_split"
   ]
  },
  {
   "cell_type": "code",
   "execution_count": 8,
   "metadata": {},
   "outputs": [
    {
     "name": "stdout",
     "output_type": "stream",
     "text": [
      "Data Splitted and saved successfully\n"
     ]
    }
   ],
   "source": [
    "data_split()"
   ]
  },
  {
   "cell_type": "code",
   "execution_count": 9,
   "metadata": {},
   "outputs": [],
   "source": [
    "from src.stages.train import train"
   ]
  },
  {
   "cell_type": "code",
   "execution_count": 10,
   "metadata": {},
   "outputs": [
    {
     "name": "stdout",
     "output_type": "stream",
     "text": [
      "model trained and saved successfully\n"
     ]
    }
   ],
   "source": [
    "train()"
   ]
  },
  {
   "cell_type": "code",
   "execution_count": 11,
   "metadata": {},
   "outputs": [],
   "source": [
    "from src.stages.evaluate import evaluate"
   ]
  },
  {
   "cell_type": "code",
   "execution_count": 12,
   "metadata": {},
   "outputs": [
    {
     "ename": "UnboundLocalError",
     "evalue": "local variable 'accuracy_score' referenced before assignment",
     "output_type": "error",
     "traceback": [
      "\u001b[1;31m---------------------------------------------------------------------------\u001b[0m",
      "\u001b[1;31mUnboundLocalError\u001b[0m                         Traceback (most recent call last)",
      "\u001b[1;32mc:\\Users\\Ayo Agbaje\\Desktop\\Bank-Customer-Churn\\test\\test_2.ipynb Cell 12\u001b[0m in \u001b[0;36m<cell line: 1>\u001b[1;34m()\u001b[0m\n\u001b[1;32m----> <a href='vscode-notebook-cell:/c%3A/Users/Ayo%20Agbaje/Desktop/Bank-Customer-Churn/test/test_2.ipynb#X15sZmlsZQ%3D%3D?line=0'>1</a>\u001b[0m evaluate()\n",
      "File \u001b[1;32mc:\\Users\\Ayo Agbaje\\Desktop\\Bank-Customer-Churn\\src\\stages\\evaluate.py:30\u001b[0m, in \u001b[0;36mevaluate\u001b[1;34m()\u001b[0m\n\u001b[0;32m     27\u001b[0m preds_ \u001b[39m=\u001b[39m model\u001b[39m.\u001b[39mpredict(X_test)\n\u001b[0;32m     29\u001b[0m roc \u001b[39m=\u001b[39m roc_auc_score(y_true \u001b[39m=\u001b[39m y_test, y_score \u001b[39m=\u001b[39m preds_)\n\u001b[1;32m---> 30\u001b[0m accuracy_score \u001b[39m=\u001b[39m accuracy_score(y_true \u001b[39m=\u001b[39m y_test, y_pred \u001b[39m=\u001b[39m preds_)\n\u001b[0;32m     31\u001b[0m precision_score \u001b[39m=\u001b[39m precision_score(y_true \u001b[39m=\u001b[39m y_test, y_pred \u001b[39m=\u001b[39m preds_)\n\u001b[0;32m     33\u001b[0m _metric \u001b[39m=\u001b[39m {\n\u001b[0;32m     34\u001b[0m     \u001b[39m'\u001b[39m\u001b[39mroc\u001b[39m\u001b[39m'\u001b[39m: roc,\n\u001b[0;32m     35\u001b[0m     \u001b[39m'\u001b[39m\u001b[39maccuracy_score\u001b[39m\u001b[39m'\u001b[39m: accuracy_score,\n\u001b[0;32m     36\u001b[0m     \u001b[39m'\u001b[39m\u001b[39mprecision_score\u001b[39m\u001b[39m'\u001b[39m: precision_score\n\u001b[0;32m     37\u001b[0m }\n",
      "\u001b[1;31mUnboundLocalError\u001b[0m: local variable 'accuracy_score' referenced before assignment"
     ]
    }
   ],
   "source": [
    "evaluate()"
   ]
  },
  {
   "cell_type": "code",
   "execution_count": null,
   "metadata": {},
   "outputs": [],
   "source": []
  }
 ],
 "metadata": {
  "kernelspec": {
   "display_name": "my_venv_",
   "language": "python",
   "name": "python3"
  },
  "language_info": {
   "codemirror_mode": {
    "name": "ipython",
    "version": 3
   },
   "file_extension": ".py",
   "mimetype": "text/x-python",
   "name": "python",
   "nbconvert_exporter": "python",
   "pygments_lexer": "ipython3",
   "version": "3.10.5"
  },
  "orig_nbformat": 4,
  "vscode": {
   "interpreter": {
    "hash": "9b263d7927ede25cb646ee2b0f8e72870ed531703475dab66c62ea36a04dd643"
   }
  }
 },
 "nbformat": 4,
 "nbformat_minor": 2
}
